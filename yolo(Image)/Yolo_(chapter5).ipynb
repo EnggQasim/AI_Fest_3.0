{
  "nbformat": 4,
  "nbformat_minor": 0,
  "metadata": {
    "colab": {
      "name": "Yolo (chapter5).ipynb",
      "provenance": []
    },
    "kernelspec": {
      "name": "python3",
      "display_name": "Python 3"
    },
    "language_info": {
      "name": "python"
    },
    "accelerator": "GPU"
  },
  "cells": [
    {
      "cell_type": "code",
      "source": [
        "!wget https://pjreddie.com/media/files/yolov3.weights -O weights/yolov3.weights\n"
      ],
      "metadata": {
        "colab": {
          "base_uri": "https://localhost:8080/"
        },
        "id": "5-M_-ANVhShe",
        "outputId": "c061e3a2-e2a1-4ddc-92c4-63da8098db22"
      },
      "execution_count": null,
      "outputs": [
        {
          "output_type": "stream",
          "name": "stdout",
          "text": [
            "--2021-12-26 09:54:44--  https://pjreddie.com/media/files/yolov3.weights\n",
            "Resolving pjreddie.com (pjreddie.com)... 128.208.4.108\n",
            "Connecting to pjreddie.com (pjreddie.com)|128.208.4.108|:443... connected.\n",
            "HTTP request sent, awaiting response... 200 OK\n",
            "Length: 248007048 (237M) [application/octet-stream]\n",
            "Saving to: ‘weights/yolov3.weights’\n",
            "\n",
            "weights/yolov3.weig 100%[===================>] 236.52M  62.8MB/s    in 4.0s    \n",
            "\n",
            "2021-12-26 09:54:48 (58.6 MB/s) - ‘weights/yolov3.weights’ saved [248007048/248007048]\n",
            "\n"
          ]
        }
      ]
    },
    {
      "cell_type": "code",
      "source": [
        "!python convert.py --weights weights/yolov3.weights --output weights/yolov3.tf"
      ],
      "metadata": {
        "colab": {
          "base_uri": "https://localhost:8080/"
        },
        "id": "yt-00aobkbVu",
        "outputId": "7364593c-414f-4764-f77b-6369a7ad57dd"
      },
      "execution_count": null,
      "outputs": [
        {
          "output_type": "stream",
          "name": "stdout",
          "text": [
            "2021-12-26 07:12:02.131725: W tensorflow/core/common_runtime/gpu/gpu_bfc_allocator.cc:39] Overriding allow_growth setting because the TF_FORCE_GPU_ALLOW_GROWTH environment variable is set. Original config value was 0.\n",
            "Model: \"yolov3\"\n",
            "__________________________________________________________________________________________________\n",
            " Layer (type)                   Output Shape         Param #     Connected to                     \n",
            "==================================================================================================\n",
            " input_1 (InputLayer)           [(None, None, None,  0           []                               \n",
            "                                 3)]                                                              \n",
            "                                                                                                  \n",
            " yolo_darknet (Functional)      ((None, None, None,  40620640    ['input_1[0][0]']                \n",
            "                                 256),                                                            \n",
            "                                 (None, None, None,                                               \n",
            "                                 512),                                                            \n",
            "                                 (None, None, None,                                               \n",
            "                                 1024))                                                           \n",
            "                                                                                                  \n",
            " yolo_conv_0 (Functional)       (None, None, None,   11024384    ['yolo_darknet[0][2]']           \n",
            "                                512)                                                              \n",
            "                                                                                                  \n",
            " yolo_conv_1 (Functional)       (None, None, None,   2957312     ['yolo_conv_0[0][0]',            \n",
            "                                256)                              'yolo_darknet[0][1]']           \n",
            "                                                                                                  \n",
            " yolo_conv_2 (Functional)       (None, None, None,   741376      ['yolo_conv_1[0][0]',            \n",
            "                                128)                              'yolo_darknet[0][0]']           \n",
            "                                                                                                  \n",
            " yolo_output_0 (Functional)     (None, None, None,   4984063     ['yolo_conv_0[0][0]']            \n",
            "                                3, 85)                                                            \n",
            "                                                                                                  \n",
            " yolo_output_1 (Functional)     (None, None, None,   1312511     ['yolo_conv_1[0][0]']            \n",
            "                                3, 85)                                                            \n",
            "                                                                                                  \n",
            " yolo_output_2 (Functional)     (None, None, None,   361471      ['yolo_conv_2[0][0]']            \n",
            "                                3, 85)                                                            \n",
            "                                                                                                  \n",
            " yolo_boxes_0 (Lambda)          ((None, None, None,  0           ['yolo_output_0[0][0]']          \n",
            "                                 3, 4),                                                           \n",
            "                                 (None, None, None,                                               \n",
            "                                 3, 1),                                                           \n",
            "                                 (None, None, None,                                               \n",
            "                                 3, 80),                                                          \n",
            "                                 (None, None, None,                                               \n",
            "                                 3, 4))                                                           \n",
            "                                                                                                  \n",
            " yolo_boxes_1 (Lambda)          ((None, None, None,  0           ['yolo_output_1[0][0]']          \n",
            "                                 3, 4),                                                           \n",
            "                                 (None, None, None,                                               \n",
            "                                 3, 1),                                                           \n",
            "                                 (None, None, None,                                               \n",
            "                                 3, 80),                                                          \n",
            "                                 (None, None, None,                                               \n",
            "                                 3, 4))                                                           \n",
            "                                                                                                  \n",
            " yolo_boxes_2 (Lambda)          ((None, None, None,  0           ['yolo_output_2[0][0]']          \n",
            "                                 3, 4),                                                           \n",
            "                                 (None, None, None,                                               \n",
            "                                 3, 1),                                                           \n",
            "                                 (None, None, None,                                               \n",
            "                                 3, 80),                                                          \n",
            "                                 (None, None, None,                                               \n",
            "                                 3, 4))                                                           \n",
            "                                                                                                  \n",
            " yolo_nms (Lambda)              ((None, 100, 4),     0           ['yolo_boxes_0[0][0]',           \n",
            "                                 (None, 100),                     'yolo_boxes_0[0][1]',           \n",
            "                                 (None, 100),                     'yolo_boxes_0[0][2]',           \n",
            "                                 (None,))                         'yolo_boxes_1[0][0]',           \n",
            "                                                                  'yolo_boxes_1[0][1]',           \n",
            "                                                                  'yolo_boxes_1[0][2]',           \n",
            "                                                                  'yolo_boxes_2[0][0]',           \n",
            "                                                                  'yolo_boxes_2[0][1]',           \n",
            "                                                                  'yolo_boxes_2[0][2]']           \n",
            "                                                                                                  \n",
            "==================================================================================================\n",
            "Total params: 62,001,757\n",
            "Trainable params: 61,949,149\n",
            "Non-trainable params: 52,608\n",
            "__________________________________________________________________________________________________\n",
            "I1226 07:12:04.794528 140010659583872 convert.py:14] model created\n",
            "I1226 07:12:04.795753 140010659583872 utils.py:32] yolo_darknet/conv2d bn\n",
            "I1226 07:12:04.799105 140010659583872 utils.py:32] yolo_darknet/conv2d_1 bn\n",
            "I1226 07:12:04.802220 140010659583872 utils.py:32] yolo_darknet/conv2d_2 bn\n",
            "I1226 07:12:04.805358 140010659583872 utils.py:32] yolo_darknet/conv2d_3 bn\n",
            "I1226 07:12:04.808627 140010659583872 utils.py:32] yolo_darknet/conv2d_4 bn\n",
            "I1226 07:12:04.812295 140010659583872 utils.py:32] yolo_darknet/conv2d_5 bn\n",
            "I1226 07:12:04.815450 140010659583872 utils.py:32] yolo_darknet/conv2d_6 bn\n",
            "I1226 07:12:04.818876 140010659583872 utils.py:32] yolo_darknet/conv2d_7 bn\n",
            "I1226 07:12:04.821966 140010659583872 utils.py:32] yolo_darknet/conv2d_8 bn\n",
            "I1226 07:12:04.825405 140010659583872 utils.py:32] yolo_darknet/conv2d_9 bn\n",
            "I1226 07:12:04.830797 140010659583872 utils.py:32] yolo_darknet/conv2d_10 bn\n",
            "I1226 07:12:04.834290 140010659583872 utils.py:32] yolo_darknet/conv2d_11 bn\n",
            "I1226 07:12:04.839303 140010659583872 utils.py:32] yolo_darknet/conv2d_12 bn\n",
            "I1226 07:12:04.842730 140010659583872 utils.py:32] yolo_darknet/conv2d_13 bn\n",
            "I1226 07:12:04.849921 140010659583872 utils.py:32] yolo_darknet/conv2d_14 bn\n",
            "I1226 07:12:04.853339 140010659583872 utils.py:32] yolo_darknet/conv2d_15 bn\n",
            "I1226 07:12:04.857890 140010659583872 utils.py:32] yolo_darknet/conv2d_16 bn\n",
            "I1226 07:12:04.861273 140010659583872 utils.py:32] yolo_darknet/conv2d_17 bn\n",
            "I1226 07:12:04.865621 140010659583872 utils.py:32] yolo_darknet/conv2d_18 bn\n",
            "I1226 07:12:04.868980 140010659583872 utils.py:32] yolo_darknet/conv2d_19 bn\n",
            "I1226 07:12:04.873656 140010659583872 utils.py:32] yolo_darknet/conv2d_20 bn\n",
            "I1226 07:12:04.876989 140010659583872 utils.py:32] yolo_darknet/conv2d_21 bn\n",
            "I1226 07:12:04.881408 140010659583872 utils.py:32] yolo_darknet/conv2d_22 bn\n",
            "I1226 07:12:04.884807 140010659583872 utils.py:32] yolo_darknet/conv2d_23 bn\n",
            "I1226 07:12:04.889164 140010659583872 utils.py:32] yolo_darknet/conv2d_24 bn\n",
            "I1226 07:12:04.892693 140010659583872 utils.py:32] yolo_darknet/conv2d_25 bn\n",
            "I1226 07:12:04.897490 140010659583872 utils.py:32] yolo_darknet/conv2d_26 bn\n",
            "I1226 07:12:04.908311 140010659583872 utils.py:32] yolo_darknet/conv2d_27 bn\n",
            "I1226 07:12:04.912460 140010659583872 utils.py:32] yolo_darknet/conv2d_28 bn\n",
            "I1226 07:12:04.920984 140010659583872 utils.py:32] yolo_darknet/conv2d_29 bn\n",
            "I1226 07:12:04.924824 140010659583872 utils.py:32] yolo_darknet/conv2d_30 bn\n",
            "I1226 07:12:04.933265 140010659583872 utils.py:32] yolo_darknet/conv2d_31 bn\n",
            "I1226 07:12:04.937754 140010659583872 utils.py:32] yolo_darknet/conv2d_32 bn\n",
            "I1226 07:12:04.946140 140010659583872 utils.py:32] yolo_darknet/conv2d_33 bn\n",
            "I1226 07:12:04.950043 140010659583872 utils.py:32] yolo_darknet/conv2d_34 bn\n",
            "I1226 07:12:04.958337 140010659583872 utils.py:32] yolo_darknet/conv2d_35 bn\n",
            "I1226 07:12:04.962110 140010659583872 utils.py:32] yolo_darknet/conv2d_36 bn\n",
            "I1226 07:12:04.970442 140010659583872 utils.py:32] yolo_darknet/conv2d_37 bn\n",
            "I1226 07:12:04.974659 140010659583872 utils.py:32] yolo_darknet/conv2d_38 bn\n",
            "I1226 07:12:04.982844 140010659583872 utils.py:32] yolo_darknet/conv2d_39 bn\n",
            "I1226 07:12:04.986863 140010659583872 utils.py:32] yolo_darknet/conv2d_40 bn\n",
            "I1226 07:12:04.995431 140010659583872 utils.py:32] yolo_darknet/conv2d_41 bn\n",
            "I1226 07:12:04.999175 140010659583872 utils.py:32] yolo_darknet/conv2d_42 bn\n",
            "I1226 07:12:05.007868 140010659583872 utils.py:32] yolo_darknet/conv2d_43 bn\n",
            "I1226 07:12:05.037666 140010659583872 utils.py:32] yolo_darknet/conv2d_44 bn\n",
            "I1226 07:12:05.050676 140010659583872 utils.py:32] yolo_darknet/conv2d_45 bn\n",
            "I1226 07:12:05.077905 140010659583872 utils.py:32] yolo_darknet/conv2d_46 bn\n",
            "I1226 07:12:05.083827 140010659583872 utils.py:32] yolo_darknet/conv2d_47 bn\n",
            "I1226 07:12:05.109186 140010659583872 utils.py:32] yolo_darknet/conv2d_48 bn\n",
            "I1226 07:12:05.115533 140010659583872 utils.py:32] yolo_darknet/conv2d_49 bn\n",
            "I1226 07:12:05.141469 140010659583872 utils.py:32] yolo_darknet/conv2d_50 bn\n",
            "I1226 07:12:05.147591 140010659583872 utils.py:32] yolo_darknet/conv2d_51 bn\n",
            "I1226 07:12:05.172689 140010659583872 utils.py:32] yolo_conv_0/conv2d_52 bn\n",
            "I1226 07:12:05.178074 140010659583872 utils.py:32] yolo_conv_0/conv2d_53 bn\n",
            "I1226 07:12:05.203500 140010659583872 utils.py:32] yolo_conv_0/conv2d_54 bn\n",
            "I1226 07:12:05.208826 140010659583872 utils.py:32] yolo_conv_0/conv2d_55 bn\n",
            "I1226 07:12:05.234219 140010659583872 utils.py:32] yolo_conv_0/conv2d_56 bn\n",
            "I1226 07:12:05.240266 140010659583872 utils.py:32] yolo_output_0/conv2d_57 bn\n",
            "I1226 07:12:05.265037 140010659583872 utils.py:32] yolo_output_0/conv2d_58 bias\n",
            "I1226 07:12:05.268164 140010659583872 utils.py:32] yolo_conv_1/conv2d_59 bn\n",
            "I1226 07:12:05.271312 140010659583872 utils.py:32] yolo_conv_1/conv2d_60 bn\n",
            "I1226 07:12:05.274508 140010659583872 utils.py:32] yolo_conv_1/conv2d_61 bn\n",
            "I1226 07:12:05.281943 140010659583872 utils.py:32] yolo_conv_1/conv2d_62 bn\n",
            "I1226 07:12:05.285145 140010659583872 utils.py:32] yolo_conv_1/conv2d_63 bn\n",
            "I1226 07:12:05.292461 140010659583872 utils.py:32] yolo_conv_1/conv2d_64 bn\n",
            "I1226 07:12:05.295970 140010659583872 utils.py:32] yolo_output_1/conv2d_65 bn\n",
            "I1226 07:12:05.303031 140010659583872 utils.py:32] yolo_output_1/conv2d_66 bias\n",
            "I1226 07:12:05.305080 140010659583872 utils.py:32] yolo_conv_2/conv2d_67 bn\n",
            "I1226 07:12:05.307845 140010659583872 utils.py:32] yolo_conv_2/conv2d_68 bn\n",
            "I1226 07:12:05.310282 140010659583872 utils.py:32] yolo_conv_2/conv2d_69 bn\n",
            "I1226 07:12:05.314083 140010659583872 utils.py:32] yolo_conv_2/conv2d_70 bn\n",
            "I1226 07:12:05.316683 140010659583872 utils.py:32] yolo_conv_2/conv2d_71 bn\n",
            "I1226 07:12:05.320289 140010659583872 utils.py:32] yolo_conv_2/conv2d_72 bn\n",
            "I1226 07:12:05.322888 140010659583872 utils.py:32] yolo_output_2/conv2d_73 bn\n",
            "I1226 07:12:05.326448 140010659583872 utils.py:32] yolo_output_2/conv2d_74 bias\n",
            "I1226 07:12:05.327798 140010659583872 convert.py:17] weights loaded\n",
            "I1226 07:12:07.147351 140010659583872 convert.py:21] sanity check passed\n",
            "I1226 07:12:08.039544 140010659583872 convert.py:24] weights saved\n"
          ]
        }
      ]
    },
    {
      "cell_type": "code",
      "execution_count": null,
      "metadata": {
        "id": "VJATLXNveM6b"
      },
      "outputs": [],
      "source": [
        ""
      ]
    },
    {
      "cell_type": "code",
      "source": [
        "yolo = YoloV3()\n",
        "yolo.load_weights(WEIGHTS_PATH)\n",
        "class_names = [c.strip() for c in open(CLASSES_PATH).readlines()]\n",
        "\n",
        "img = tf.image.decode_image(open('/content/dog_example.jpg', 'rb').read(), channels=3)\n",
        "plt.imshow(img)\n",
        "plt.show()\n",
        "\n",
        "input_img = tf.expand_dims(img, 0)\n",
        "input_img = transform_images(input_img, IMAGE_SIZE)"
      ],
      "metadata": {
        "colab": {
          "base_uri": "https://localhost:8080/",
          "height": 554
        },
        "id": "eFkNvHK8el2V",
        "outputId": "766e6e50-b583-461d-d0be-7d48323939ec"
      },
      "execution_count": null,
      "outputs": [
        {
          "output_type": "error",
          "ename": "OSError",
          "evalue": "ignored",
          "traceback": [
            "\u001b[0;31m---------------------------------------------------------------------------\u001b[0m",
            "\u001b[0;31mOSError\u001b[0m                                   Traceback (most recent call last)",
            "\u001b[0;32m<ipython-input-15-225c08ef60ae>\u001b[0m in \u001b[0;36m<module>\u001b[0;34m()\u001b[0m\n\u001b[1;32m      1\u001b[0m \u001b[0myolo\u001b[0m \u001b[0;34m=\u001b[0m \u001b[0mYoloV3\u001b[0m\u001b[0;34m(\u001b[0m\u001b[0;34m)\u001b[0m\u001b[0;34m\u001b[0m\u001b[0;34m\u001b[0m\u001b[0m\n\u001b[0;32m----> 2\u001b[0;31m \u001b[0myolo\u001b[0m\u001b[0;34m.\u001b[0m\u001b[0mload_weights\u001b[0m\u001b[0;34m(\u001b[0m\u001b[0mWEIGHTS_PATH\u001b[0m\u001b[0;34m)\u001b[0m\u001b[0;34m\u001b[0m\u001b[0;34m\u001b[0m\u001b[0m\n\u001b[0m\u001b[1;32m      3\u001b[0m \u001b[0mclass_names\u001b[0m \u001b[0;34m=\u001b[0m \u001b[0;34m[\u001b[0m\u001b[0mc\u001b[0m\u001b[0;34m.\u001b[0m\u001b[0mstrip\u001b[0m\u001b[0;34m(\u001b[0m\u001b[0;34m)\u001b[0m \u001b[0;32mfor\u001b[0m \u001b[0mc\u001b[0m \u001b[0;32min\u001b[0m \u001b[0mopen\u001b[0m\u001b[0;34m(\u001b[0m\u001b[0mCLASSES_PATH\u001b[0m\u001b[0;34m)\u001b[0m\u001b[0;34m.\u001b[0m\u001b[0mreadlines\u001b[0m\u001b[0;34m(\u001b[0m\u001b[0;34m)\u001b[0m\u001b[0;34m]\u001b[0m\u001b[0;34m\u001b[0m\u001b[0;34m\u001b[0m\u001b[0m\n\u001b[1;32m      4\u001b[0m \u001b[0;34m\u001b[0m\u001b[0m\n\u001b[1;32m      5\u001b[0m \u001b[0mimg\u001b[0m \u001b[0;34m=\u001b[0m \u001b[0mtf\u001b[0m\u001b[0;34m.\u001b[0m\u001b[0mimage\u001b[0m\u001b[0;34m.\u001b[0m\u001b[0mdecode_image\u001b[0m\u001b[0;34m(\u001b[0m\u001b[0mopen\u001b[0m\u001b[0;34m(\u001b[0m\u001b[0;34m'/content/dog_example.jpg'\u001b[0m\u001b[0;34m,\u001b[0m \u001b[0;34m'rb'\u001b[0m\u001b[0;34m)\u001b[0m\u001b[0;34m.\u001b[0m\u001b[0mread\u001b[0m\u001b[0;34m(\u001b[0m\u001b[0;34m)\u001b[0m\u001b[0;34m,\u001b[0m \u001b[0mchannels\u001b[0m\u001b[0;34m=\u001b[0m\u001b[0;36m3\u001b[0m\u001b[0;34m)\u001b[0m\u001b[0;34m\u001b[0m\u001b[0;34m\u001b[0m\u001b[0m\n",
            "\u001b[0;32m/usr/local/lib/python3.7/dist-packages/keras/utils/traceback_utils.py\u001b[0m in \u001b[0;36merror_handler\u001b[0;34m(*args, **kwargs)\u001b[0m\n\u001b[1;32m     65\u001b[0m     \u001b[0;32mexcept\u001b[0m \u001b[0mException\u001b[0m \u001b[0;32mas\u001b[0m \u001b[0me\u001b[0m\u001b[0;34m:\u001b[0m  \u001b[0;31m# pylint: disable=broad-except\u001b[0m\u001b[0;34m\u001b[0m\u001b[0;34m\u001b[0m\u001b[0m\n\u001b[1;32m     66\u001b[0m       \u001b[0mfiltered_tb\u001b[0m \u001b[0;34m=\u001b[0m \u001b[0m_process_traceback_frames\u001b[0m\u001b[0;34m(\u001b[0m\u001b[0me\u001b[0m\u001b[0;34m.\u001b[0m\u001b[0m__traceback__\u001b[0m\u001b[0;34m)\u001b[0m\u001b[0;34m\u001b[0m\u001b[0;34m\u001b[0m\u001b[0m\n\u001b[0;32m---> 67\u001b[0;31m       \u001b[0;32mraise\u001b[0m \u001b[0me\u001b[0m\u001b[0;34m.\u001b[0m\u001b[0mwith_traceback\u001b[0m\u001b[0;34m(\u001b[0m\u001b[0mfiltered_tb\u001b[0m\u001b[0;34m)\u001b[0m \u001b[0;32mfrom\u001b[0m \u001b[0;32mNone\u001b[0m\u001b[0;34m\u001b[0m\u001b[0;34m\u001b[0m\u001b[0m\n\u001b[0m\u001b[1;32m     68\u001b[0m     \u001b[0;32mfinally\u001b[0m\u001b[0;34m:\u001b[0m\u001b[0;34m\u001b[0m\u001b[0;34m\u001b[0m\u001b[0m\n\u001b[1;32m     69\u001b[0m       \u001b[0;32mdel\u001b[0m \u001b[0mfiltered_tb\u001b[0m\u001b[0;34m\u001b[0m\u001b[0;34m\u001b[0m\u001b[0m\n",
            "\u001b[0;32m/usr/local/lib/python3.7/dist-packages/h5py/_hl/files.py\u001b[0m in \u001b[0;36m__init__\u001b[0;34m(self, name, mode, driver, libver, userblock_size, swmr, rdcc_nslots, rdcc_nbytes, rdcc_w0, track_order, fs_strategy, fs_persist, fs_threshold, **kwds)\u001b[0m\n\u001b[1;32m    425\u001b[0m                                fapl, fcpl=make_fcpl(track_order=track_order, fs_strategy=fs_strategy,\n\u001b[1;32m    426\u001b[0m                                fs_persist=fs_persist, fs_threshold=fs_threshold),\n\u001b[0;32m--> 427\u001b[0;31m                                swmr=swmr)\n\u001b[0m\u001b[1;32m    428\u001b[0m \u001b[0;34m\u001b[0m\u001b[0m\n\u001b[1;32m    429\u001b[0m             \u001b[0;32mif\u001b[0m \u001b[0misinstance\u001b[0m\u001b[0;34m(\u001b[0m\u001b[0mlibver\u001b[0m\u001b[0;34m,\u001b[0m \u001b[0mtuple\u001b[0m\u001b[0;34m)\u001b[0m\u001b[0;34m:\u001b[0m\u001b[0;34m\u001b[0m\u001b[0;34m\u001b[0m\u001b[0m\n",
            "\u001b[0;32m/usr/local/lib/python3.7/dist-packages/h5py/_hl/files.py\u001b[0m in \u001b[0;36mmake_fid\u001b[0;34m(name, mode, userblock_size, fapl, fcpl, swmr)\u001b[0m\n\u001b[1;32m    188\u001b[0m         \u001b[0;32mif\u001b[0m \u001b[0mswmr\u001b[0m \u001b[0;32mand\u001b[0m \u001b[0mswmr_support\u001b[0m\u001b[0;34m:\u001b[0m\u001b[0;34m\u001b[0m\u001b[0;34m\u001b[0m\u001b[0m\n\u001b[1;32m    189\u001b[0m             \u001b[0mflags\u001b[0m \u001b[0;34m|=\u001b[0m \u001b[0mh5f\u001b[0m\u001b[0;34m.\u001b[0m\u001b[0mACC_SWMR_READ\u001b[0m\u001b[0;34m\u001b[0m\u001b[0;34m\u001b[0m\u001b[0m\n\u001b[0;32m--> 190\u001b[0;31m         \u001b[0mfid\u001b[0m \u001b[0;34m=\u001b[0m \u001b[0mh5f\u001b[0m\u001b[0;34m.\u001b[0m\u001b[0mopen\u001b[0m\u001b[0;34m(\u001b[0m\u001b[0mname\u001b[0m\u001b[0;34m,\u001b[0m \u001b[0mflags\u001b[0m\u001b[0;34m,\u001b[0m \u001b[0mfapl\u001b[0m\u001b[0;34m=\u001b[0m\u001b[0mfapl\u001b[0m\u001b[0;34m)\u001b[0m\u001b[0;34m\u001b[0m\u001b[0;34m\u001b[0m\u001b[0m\n\u001b[0m\u001b[1;32m    191\u001b[0m     \u001b[0;32melif\u001b[0m \u001b[0mmode\u001b[0m \u001b[0;34m==\u001b[0m \u001b[0;34m'r+'\u001b[0m\u001b[0;34m:\u001b[0m\u001b[0;34m\u001b[0m\u001b[0;34m\u001b[0m\u001b[0m\n\u001b[1;32m    192\u001b[0m         \u001b[0mfid\u001b[0m \u001b[0;34m=\u001b[0m \u001b[0mh5f\u001b[0m\u001b[0;34m.\u001b[0m\u001b[0mopen\u001b[0m\u001b[0;34m(\u001b[0m\u001b[0mname\u001b[0m\u001b[0;34m,\u001b[0m \u001b[0mh5f\u001b[0m\u001b[0;34m.\u001b[0m\u001b[0mACC_RDWR\u001b[0m\u001b[0;34m,\u001b[0m \u001b[0mfapl\u001b[0m\u001b[0;34m=\u001b[0m\u001b[0mfapl\u001b[0m\u001b[0;34m)\u001b[0m\u001b[0;34m\u001b[0m\u001b[0;34m\u001b[0m\u001b[0m\n",
            "\u001b[0;32mh5py/_objects.pyx\u001b[0m in \u001b[0;36mh5py._objects.with_phil.wrapper\u001b[0;34m()\u001b[0m\n",
            "\u001b[0;32mh5py/_objects.pyx\u001b[0m in \u001b[0;36mh5py._objects.with_phil.wrapper\u001b[0;34m()\u001b[0m\n",
            "\u001b[0;32mh5py/h5f.pyx\u001b[0m in \u001b[0;36mh5py.h5f.open\u001b[0;34m()\u001b[0m\n",
            "\u001b[0;31mOSError\u001b[0m: Unable to open file (file signature not found)"
          ]
        }
      ]
    },
    {
      "cell_type": "code",
      "source": [
        "class_names"
      ],
      "metadata": {
        "colab": {
          "base_uri": "https://localhost:8080/"
        },
        "id": "eH1ZXU2imI-g",
        "outputId": "7fef231f-14bd-4b85-c657-607ea29952c4"
      },
      "execution_count": null,
      "outputs": [
        {
          "output_type": "execute_result",
          "data": {
            "text/plain": [
              "['person',\n",
              " 'bicycle',\n",
              " 'car',\n",
              " 'motorbike',\n",
              " 'aeroplane',\n",
              " 'bus',\n",
              " 'train',\n",
              " 'truck',\n",
              " 'boat',\n",
              " 'traffic light',\n",
              " 'fire hydrant',\n",
              " 'stop sign',\n",
              " 'parking meter',\n",
              " 'bench',\n",
              " 'bird',\n",
              " 'cat',\n",
              " 'dog',\n",
              " 'horse',\n",
              " 'sheep',\n",
              " 'cow',\n",
              " 'elephant',\n",
              " 'bear',\n",
              " 'zebra',\n",
              " 'giraffe',\n",
              " 'backpack',\n",
              " 'umbrella',\n",
              " 'handbag',\n",
              " 'tie',\n",
              " 'suitcase',\n",
              " 'frisbee',\n",
              " 'skis',\n",
              " 'snowboard',\n",
              " 'sports ball',\n",
              " 'kite',\n",
              " 'baseball bat',\n",
              " 'baseball glove',\n",
              " 'skateboard',\n",
              " 'surfboard',\n",
              " 'tennis racket',\n",
              " 'bottle',\n",
              " 'wine glass',\n",
              " 'cup',\n",
              " 'fork',\n",
              " 'knife',\n",
              " 'spoon',\n",
              " 'bowl',\n",
              " 'banana',\n",
              " 'apple',\n",
              " 'sandwich',\n",
              " 'orange',\n",
              " 'broccoli',\n",
              " 'carrot',\n",
              " 'hot dog',\n",
              " 'pizza',\n",
              " 'donut',\n",
              " 'cake',\n",
              " 'chair',\n",
              " 'sofa',\n",
              " 'pottedplant',\n",
              " 'bed',\n",
              " 'diningtable',\n",
              " 'toilet',\n",
              " 'tvmonitor',\n",
              " 'laptop',\n",
              " 'mouse',\n",
              " 'remote',\n",
              " 'keyboard',\n",
              " 'cell phone',\n",
              " 'microwave',\n",
              " 'oven',\n",
              " 'toaster',\n",
              " 'sink',\n",
              " 'refrigerator',\n",
              " 'book',\n",
              " 'clock',\n",
              " 'vase',\n",
              " 'scissors',\n",
              " 'teddy bear',\n",
              " 'hair drier',\n",
              " 'toothbrush']"
            ]
          },
          "metadata": {},
          "execution_count": 18
        }
      ]
    },
    {
      "cell_type": "code",
      "source": [
        ""
      ],
      "metadata": {
        "id": "2kmUZv_xepqe"
      },
      "execution_count": null,
      "outputs": []
    }
  ]
}